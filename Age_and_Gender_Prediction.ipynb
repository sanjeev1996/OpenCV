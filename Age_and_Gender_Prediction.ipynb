{
  "nbformat": 4,
  "nbformat_minor": 0,
  "metadata": {
    "colab": {
      "name": "Age and Gender Prediction.ipynb",
      "provenance": [],
      "authorship_tag": "ABX9TyPLTIZfB2D0Ia5Yv6RPRkEp",
      "include_colab_link": true
    },
    "kernelspec": {
      "name": "python3",
      "display_name": "Python 3"
    },
    "accelerator": "GPU"
  },
  "cells": [
    {
      "cell_type": "markdown",
      "metadata": {
        "id": "view-in-github",
        "colab_type": "text"
      },
      "source": [
        "<a href=\"https://colab.research.google.com/github/sanjeev1996/OpenCV/blob/master/Age_and_Gender_Prediction.ipynb\" target=\"_parent\"><img src=\"https://colab.research.google.com/assets/colab-badge.svg\" alt=\"Open In Colab\"/></a>"
      ]
    },
    {
      "cell_type": "code",
      "metadata": {
        "id": "jTOmw3IeTEeE",
        "colab_type": "code",
        "colab": {}
      },
      "source": [
        "!pip install pafy\n",
        "!pip install youtube_dl"
      ],
      "execution_count": 0,
      "outputs": []
    },
    {
      "cell_type": "code",
      "metadata": {
        "id": "vLb166aYUPhR",
        "colab_type": "code",
        "colab": {}
      },
      "source": [
        "import cv2\n",
        "import numpy as np\n",
        "import pafy\n",
        "\n",
        "url = 'https://www.youtube.com/watch?v=c07IsbSNqfI&feature=youtu.be'\n",
        "vpafy = pafy.new(url)\n",
        "play = vpafy.getbest(preftype='mp4')\n",
        "\n",
        "cap = cv2.VideoCapture(play.url)\n",
        "\n",
        "cap.set(3,480)\n",
        "cap.set(4, 460)\n",
        "\n",
        "MODEL_MEAN_VALUES = (78.4263377603, 87.7689143744, 114.895847746)\n",
        "age_list = ['(0, 2)', '(4, 6)', '(8, 12)', '(15, 20)', '(25, 32)', '(38, 43)', '(48, 53)', '(60, 100)']\n",
        "gender_list = ['Male', 'Female']\n",
        "\n",
        "\n",
        "def load_caffe_models():\n",
        "  age_net = cv2.dnn.readNetFromCaffe('deploy_age.prototxt', 'age_net.caffemodel')\n",
        "  gender_net = cv2.dnn.readNetFromCaffe('deploy_gender.prototxt', 'gender_net.caffemodel')\n",
        "  return (age_net, gender_net)\n",
        "\n",
        "def video_detector(age_net, gender_net):\n",
        "  font = cv2.FONT_HERSHEY_SIMPLEX\n",
        "\n",
        "  while True:\n",
        "    ret, image = cap.read()\n",
        "\n",
        "    face_cascade = cv2.cvtColor(image, cv2.COLOR_BGR2GRAY)\n",
        "    faces = face_cascade.detectMultiScale(gray, 1.1, 5)\n",
        "\n",
        "    if (len(faces)>0):\n",
        "      print(\"Found {} faces\".format(str(len(faces))))\n",
        "\n",
        "    for (x,y,w,h) in faces:\n",
        "      cv2.rectangle(image, (x,y), (x+w, y+h), (255,255,0), 2)\n",
        "    \n",
        "    # Crop face from image\n",
        "    face_img = image(y:y+h, h:h+w).copy()\n",
        "    blob = cv2.dnnblobFromImage(face_img, 1, (277, 277), MODEL_MEAN_VALUES, swapRB=False)\n",
        "\n",
        "    # Predict Gender\n",
        "    gender_net.setInput(blob)\n",
        "    gender_preds = gender_net.forward()\n",
        "    gender = gender_list[gender_preds[0].argmax()]\n",
        "    print(\"Gender: \"+ gender)\n",
        "\n",
        "    # Predict age\n",
        "    age_net.setInput(blob)\n",
        "    age_preds = age_net.forward()\n",
        "    age = age_list[age_preds[0].argmax()]\n",
        "    print(\"Age Range: \"+age)\n",
        "\n",
        "    overlay_text = \"%s %s\" % (gender,age)\n",
        "    cv2.putText(image, overlay_text, (x,y), font, 1, (255,255,255), 2, cv2.LINE_AA)\n",
        "    cv2_imshow(image)\n",
        "    if cv2.waitkey(1) & 0xFF == ord('q'):\n",
        "      break\n",
        "     \n",
        "\n",
        "if __name__ == \"__main__\":\n",
        "  age_net, gender_net = load_caffe_models()\n",
        "  video_detector(age_net, gender_net)\n",
        "\n",
        "\n"
      ],
      "execution_count": 0,
      "outputs": []
    }
  ]
}